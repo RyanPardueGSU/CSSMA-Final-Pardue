{
 "cells": [
  {
   "cell_type": "code",
   "execution_count": 1,
   "id": "75c558a0-2c06-438f-b2ab-30d2cde0ffc9",
   "metadata": {},
   "outputs": [],
   "source": [
    "import graph_tool.all as gt\n",
    "import pandas as pd\n",
    "import numpy as np\n",
    "import matplotlib.pyplot as plt\n",
    "import matplotlib as mpl\n",
    "import itertools"
   ]
  },
  {
   "cell_type": "markdown",
   "id": "6ee36d72-9cac-43f3-8679-274a0e5b2bba",
   "metadata": {},
   "source": [
    "## Data Import and Set Up\n",
    "\n",
    "The starting point for this project is an existing dataset of non-owner occupied parcels in the City of Atlanta. It joins together two datasets from the county tax assessor's offices in Fulton and DeKalb counties and comes from a previous project that disambiguated property ownership using a number of programs and manually checking techniques. For the purposes of this project, it's important to note that the `OwnerName` and `OwnerAddress` columns have already been lightly processed to match together small typos and misspellings.\n",
    "\n",
    "The original dataset is imported in its entirety then immediating a \"thinner\" dataframe is created with the four columns needed for this analysis"
   ]
  },
  {
   "cell_type": "code",
   "execution_count": 2,
   "id": "9c0f4f53-2f91-45b4-8c59-e7834b6b8a6c",
   "metadata": {},
   "outputs": [],
   "source": [
    "df = pd.read_csv(\"../Data/AtlCity_NotOwnerParcels.csv\")"
   ]
  },
  {
   "cell_type": "code",
   "execution_count": 3,
   "id": "84754a0b-8003-4c00-9dce-e5832434fd45",
   "metadata": {},
   "outputs": [
    {
     "data": {
      "text/plain": [
       "Index(['RowID', 'County', 'ParcelID', 'SiteAddress', 'SiteNumStr', 'SiteNum',\n",
       "       'SiteStreet', 'SiteZip', 'SiteState', 'OwnerName', 'OwnerAddress',\n",
       "       'OwnerNumStr', 'ClstName', 'ClstAddress', 'N_OName', 'N_OAddress',\n",
       "       'RealOwner', 'OwnerCat', 'ZoneCode', 'LUCode', 'TotAppr', 'LandAppr',\n",
       "       'BldgAppr', 'LotSize', 'ParcelLong', 'ParcelLat'],\n",
       "      dtype='object')"
      ]
     },
     "execution_count": 3,
     "metadata": {},
     "output_type": "execute_result"
    }
   ],
   "source": [
    "df.columns"
   ]
  },
  {
   "cell_type": "code",
   "execution_count": 4,
   "id": "1270fab9-c106-48b1-9366-41dbf8ea7ca8",
   "metadata": {},
   "outputs": [],
   "source": [
    "sdf = df[['SiteAddress', 'OwnerName', 'OwnerAddress', 'ClstName', 'ClstAddress', 'N_OName', 'N_OAddress',\n",
    "       'RealOwner']].copy()"
   ]
  },
  {
   "cell_type": "code",
   "execution_count": 5,
   "id": "1b9096b9-3835-459c-916a-f0f1dc57c7a2",
   "metadata": {},
   "outputs": [],
   "source": [
    "sdf[\"Pid\"] = sdf.index + 1 # Creates a new ID so parcels can be tied back to addresses throughout the project"
   ]
  },
  {
   "cell_type": "code",
   "execution_count": 6,
   "id": "4b58fe17-2d4d-42cf-93e7-828a72d0ce64",
   "metadata": {},
   "outputs": [
    {
     "data": {
      "text/html": [
       "<div>\n",
       "<style scoped>\n",
       "    .dataframe tbody tr th:only-of-type {\n",
       "        vertical-align: middle;\n",
       "    }\n",
       "\n",
       "    .dataframe tbody tr th {\n",
       "        vertical-align: top;\n",
       "    }\n",
       "\n",
       "    .dataframe thead th {\n",
       "        text-align: right;\n",
       "    }\n",
       "</style>\n",
       "<table border=\"1\" class=\"dataframe\">\n",
       "  <thead>\n",
       "    <tr style=\"text-align: right;\">\n",
       "      <th></th>\n",
       "      <th>SiteAddress</th>\n",
       "      <th>OwnerName</th>\n",
       "      <th>OwnerAddress</th>\n",
       "      <th>ClstName</th>\n",
       "      <th>ClstAddress</th>\n",
       "      <th>N_OName</th>\n",
       "      <th>N_OAddress</th>\n",
       "      <th>RealOwner</th>\n",
       "      <th>Pid</th>\n",
       "    </tr>\n",
       "  </thead>\n",
       "  <tbody>\n",
       "    <tr>\n",
       "      <th>0</th>\n",
       "      <td>1001 Hilburn Drive Atlanta, GA 30316</td>\n",
       "      <td>2018 2 IH BORROWER LP</td>\n",
       "      <td>1717 MAIN ST STE 2000 DALLAS, TX 75201</td>\n",
       "      <td>2018-4 IH BORROWER LP</td>\n",
       "      <td>1717 MAIN ST STE 2000, DALLAS, TX, 75201-4657</td>\n",
       "      <td>2901</td>\n",
       "      <td>5621</td>\n",
       "      <td>Invitation</td>\n",
       "      <td>1</td>\n",
       "    </tr>\n",
       "    <tr>\n",
       "      <th>1</th>\n",
       "      <td>914 Bouldercrest Drive Atlanta, GA 30316</td>\n",
       "      <td>2018 2 IH BORROWER LP</td>\n",
       "      <td>1717 MAIN ST STE 2000 DALLAS, TX 75201</td>\n",
       "      <td>2018-4 IH BORROWER LP</td>\n",
       "      <td>1717 MAIN ST STE 2000, DALLAS, TX, 75201-4657</td>\n",
       "      <td>2901</td>\n",
       "      <td>5621</td>\n",
       "      <td>Invitation</td>\n",
       "      <td>2</td>\n",
       "    </tr>\n",
       "    <tr>\n",
       "      <th>2</th>\n",
       "      <td>2170 Memorial Drive Atlanta, GA 30317</td>\n",
       "      <td>2017-2 IH BORROWER LP</td>\n",
       "      <td>1717 MAIN ST STE 2000 DALLAS, TX 75201</td>\n",
       "      <td>2018-4 IH BORROWER LP</td>\n",
       "      <td>1717 MAIN ST STE 2000, DALLAS, TX, 75201-4657</td>\n",
       "      <td>2901</td>\n",
       "      <td>5621</td>\n",
       "      <td>Invitation</td>\n",
       "      <td>3</td>\n",
       "    </tr>\n",
       "    <tr>\n",
       "      <th>3</th>\n",
       "      <td>316 Patterson Avenue Atlanta, GA 30316</td>\n",
       "      <td>2013-1 IH BORROWER LP</td>\n",
       "      <td>1717 MAIN ST STE 2000 DALLAS, TX 75201</td>\n",
       "      <td>2018-4 IH BORROWER LP</td>\n",
       "      <td>1717 MAIN ST STE 2000, DALLAS, TX, 75201-4657</td>\n",
       "      <td>2901</td>\n",
       "      <td>5621</td>\n",
       "      <td>Invitation</td>\n",
       "      <td>4</td>\n",
       "    </tr>\n",
       "    <tr>\n",
       "      <th>4</th>\n",
       "      <td>55 Wyman Street SE Atlanta, GA 30317</td>\n",
       "      <td>2017-2 IH BORROWER LP</td>\n",
       "      <td>1717 MAIN ST STE 2000 DALLAS, TX 75201</td>\n",
       "      <td>2018-4 IH BORROWER LP</td>\n",
       "      <td>1717 MAIN ST STE 2000, DALLAS, TX, 75201-4657</td>\n",
       "      <td>2901</td>\n",
       "      <td>5621</td>\n",
       "      <td>Invitation</td>\n",
       "      <td>5</td>\n",
       "    </tr>\n",
       "    <tr>\n",
       "      <th>...</th>\n",
       "      <td>...</td>\n",
       "      <td>...</td>\n",
       "      <td>...</td>\n",
       "      <td>...</td>\n",
       "      <td>...</td>\n",
       "      <td>...</td>\n",
       "      <td>...</td>\n",
       "      <td>...</td>\n",
       "      <td>...</td>\n",
       "    </tr>\n",
       "    <tr>\n",
       "      <th>73783</th>\n",
       "      <td>270 SEVENTEENTH ST UNIT 2903, GA</td>\n",
       "      <td>CLARK MELINDA ANN</td>\n",
       "      <td>270 17TH ST NW UNIT 2903, ATLANTA GA 30363</td>\n",
       "      <td>CLARK MELINDA ANN</td>\n",
       "      <td>270 17TH ST NW UNIT 2903, ATLANTA GA 30363</td>\n",
       "      <td>1</td>\n",
       "      <td>1</td>\n",
       "      <td></td>\n",
       "      <td>73784</td>\n",
       "    </tr>\n",
       "    <tr>\n",
       "      <th>73784</th>\n",
       "      <td>229 PEACHTREE HILLS AVE UNIT 5303, GA</td>\n",
       "      <td>MIXSON HOMER LAMAR</td>\n",
       "      <td>2500 W WESLEY RD, ATLANTA GA 30327</td>\n",
       "      <td>MIXSON HOMER LAMAR</td>\n",
       "      <td>2500 W WESLEY RD, ATLANTA GA 30327</td>\n",
       "      <td>1</td>\n",
       "      <td>1</td>\n",
       "      <td></td>\n",
       "      <td>73785</td>\n",
       "    </tr>\n",
       "    <tr>\n",
       "      <th>73785</th>\n",
       "      <td>229 PEACHTREE HILLS AVE UNIT 334, GA</td>\n",
       "      <td>BROOKWOOD PRIDE LLC</td>\n",
       "      <td>229 PEACHTREE HILLS AVE UNIT 334, ATLANTA GA 3...</td>\n",
       "      <td>BROOKWOOD PRIDE LLC</td>\n",
       "      <td>229 PEACHTREE HILLS AVE UNIT 334, ATLANTA GA 3...</td>\n",
       "      <td>1</td>\n",
       "      <td>1</td>\n",
       "      <td></td>\n",
       "      <td>73786</td>\n",
       "    </tr>\n",
       "    <tr>\n",
       "      <th>73786</th>\n",
       "      <td>270 SEVENTEENTH ST UNIT 2410, GA</td>\n",
       "      <td>SHERWOOD DELESHIA</td>\n",
       "      <td>270 17TH ST NW UNIT 2410, ATLANTA GA 30363</td>\n",
       "      <td>SHERWOOD DELESHIA</td>\n",
       "      <td>270 17TH ST NW UNIT 2410, ATLANTA GA 30363</td>\n",
       "      <td>1</td>\n",
       "      <td>1</td>\n",
       "      <td></td>\n",
       "      <td>73787</td>\n",
       "    </tr>\n",
       "    <tr>\n",
       "      <th>73787</th>\n",
       "      <td>270 SEVENTEENTH ST UNIT 3503, GA</td>\n",
       "      <td>BAUMANN KEVIN</td>\n",
       "      <td>270 17TH ST NW UNIT 3503, ATLANTA GA 30363</td>\n",
       "      <td>BAUMANN KEVIN</td>\n",
       "      <td>270 17TH ST NW UNIT 3503, ATLANTA GA 30363</td>\n",
       "      <td>1</td>\n",
       "      <td>1</td>\n",
       "      <td></td>\n",
       "      <td>73788</td>\n",
       "    </tr>\n",
       "  </tbody>\n",
       "</table>\n",
       "<p>73788 rows × 9 columns</p>\n",
       "</div>"
      ],
      "text/plain": [
       "                                    SiteAddress              OwnerName  \\\n",
       "0          1001 Hilburn Drive Atlanta, GA 30316  2018 2 IH BORROWER LP   \n",
       "1      914 Bouldercrest Drive Atlanta, GA 30316  2018 2 IH BORROWER LP   \n",
       "2         2170 Memorial Drive Atlanta, GA 30317  2017-2 IH BORROWER LP   \n",
       "3        316 Patterson Avenue Atlanta, GA 30316  2013-1 IH BORROWER LP   \n",
       "4          55 Wyman Street SE Atlanta, GA 30317  2017-2 IH BORROWER LP   \n",
       "...                                         ...                    ...   \n",
       "73783          270 SEVENTEENTH ST UNIT 2903, GA      CLARK MELINDA ANN   \n",
       "73784     229 PEACHTREE HILLS AVE UNIT 5303, GA     MIXSON HOMER LAMAR   \n",
       "73785      229 PEACHTREE HILLS AVE UNIT 334, GA    BROOKWOOD PRIDE LLC   \n",
       "73786          270 SEVENTEENTH ST UNIT 2410, GA      SHERWOOD DELESHIA   \n",
       "73787          270 SEVENTEENTH ST UNIT 3503, GA          BAUMANN KEVIN   \n",
       "\n",
       "                                            OwnerAddress  \\\n",
       "0                 1717 MAIN ST STE 2000 DALLAS, TX 75201   \n",
       "1                 1717 MAIN ST STE 2000 DALLAS, TX 75201   \n",
       "2                 1717 MAIN ST STE 2000 DALLAS, TX 75201   \n",
       "3                 1717 MAIN ST STE 2000 DALLAS, TX 75201   \n",
       "4                 1717 MAIN ST STE 2000 DALLAS, TX 75201   \n",
       "...                                                  ...   \n",
       "73783         270 17TH ST NW UNIT 2903, ATLANTA GA 30363   \n",
       "73784                 2500 W WESLEY RD, ATLANTA GA 30327   \n",
       "73785  229 PEACHTREE HILLS AVE UNIT 334, ATLANTA GA 3...   \n",
       "73786         270 17TH ST NW UNIT 2410, ATLANTA GA 30363   \n",
       "73787         270 17TH ST NW UNIT 3503, ATLANTA GA 30363   \n",
       "\n",
       "                    ClstName  \\\n",
       "0      2018-4 IH BORROWER LP   \n",
       "1      2018-4 IH BORROWER LP   \n",
       "2      2018-4 IH BORROWER LP   \n",
       "3      2018-4 IH BORROWER LP   \n",
       "4      2018-4 IH BORROWER LP   \n",
       "...                      ...   \n",
       "73783      CLARK MELINDA ANN   \n",
       "73784     MIXSON HOMER LAMAR   \n",
       "73785    BROOKWOOD PRIDE LLC   \n",
       "73786      SHERWOOD DELESHIA   \n",
       "73787          BAUMANN KEVIN   \n",
       "\n",
       "                                             ClstAddress  N_OName  N_OAddress  \\\n",
       "0          1717 MAIN ST STE 2000, DALLAS, TX, 75201-4657     2901        5621   \n",
       "1          1717 MAIN ST STE 2000, DALLAS, TX, 75201-4657     2901        5621   \n",
       "2          1717 MAIN ST STE 2000, DALLAS, TX, 75201-4657     2901        5621   \n",
       "3          1717 MAIN ST STE 2000, DALLAS, TX, 75201-4657     2901        5621   \n",
       "4          1717 MAIN ST STE 2000, DALLAS, TX, 75201-4657     2901        5621   \n",
       "...                                                  ...      ...         ...   \n",
       "73783         270 17TH ST NW UNIT 2903, ATLANTA GA 30363        1           1   \n",
       "73784                 2500 W WESLEY RD, ATLANTA GA 30327        1           1   \n",
       "73785  229 PEACHTREE HILLS AVE UNIT 334, ATLANTA GA 3...        1           1   \n",
       "73786         270 17TH ST NW UNIT 2410, ATLANTA GA 30363        1           1   \n",
       "73787         270 17TH ST NW UNIT 3503, ATLANTA GA 30363        1           1   \n",
       "\n",
       "        RealOwner    Pid  \n",
       "0      Invitation      1  \n",
       "1      Invitation      2  \n",
       "2      Invitation      3  \n",
       "3      Invitation      4  \n",
       "4      Invitation      5  \n",
       "...           ...    ...  \n",
       "73783              73784  \n",
       "73784              73785  \n",
       "73785              73786  \n",
       "73786              73787  \n",
       "73787              73788  \n",
       "\n",
       "[73788 rows x 9 columns]"
      ]
     },
     "execution_count": 6,
     "metadata": {},
     "output_type": "execute_result"
    }
   ],
   "source": [
    "sdf"
   ]
  },
  {
   "cell_type": "code",
   "execution_count": 7,
   "id": "e4e47769-6bb7-4e83-a0b9-f3085786b034",
   "metadata": {},
   "outputs": [],
   "source": [
    "# Saves the parcel ID dataframe to a CSV\n",
    "sdf.to_csv(\"../Data/ParcelIDed.csv\")"
   ]
  },
  {
   "cell_type": "markdown",
   "id": "2a684b2e-4a61-4a85-84cb-f3deab5e3bcc",
   "metadata": {},
   "source": [
    "## Converting the dataframes into a network ready format\n",
    "\n",
    "The goal of this project is to use network analysis to identify clusters of addresses and owner names that might indicate common ownership that can't be seen by simply grouping observation together based on that information. To do this, the dataframe of parcel records needs to be converted into some form of node and edge list.\n",
    "\n",
    "Easiest thing to do in `graph-tools` is going to be having vertex pairs"
   ]
  },
  {
   "cell_type": "markdown",
   "id": "5abd6c55-ab85-4595-94df-cb47b5ac9c2a",
   "metadata": {},
   "source": [
    "### Networking the parcel addresses by shared owner name/address"
   ]
  },
  {
   "cell_type": "markdown",
   "id": "024ec836-5353-4072-90e0-048939ca6843",
   "metadata": {},
   "source": [
    "Owner Address"
   ]
  },
  {
   "cell_type": "code",
   "execution_count": 8,
   "id": "69208f2e-46e1-4595-be5d-64bf47fd5000",
   "metadata": {},
   "outputs": [],
   "source": [
    "# Group the parcel dataframe by OwnerAddress and store all of the ids that share the address\n",
    "gdf = sdf.groupby('OwnerAddress')['Pid'].apply(list).reset_index()"
   ]
  },
  {
   "cell_type": "code",
   "execution_count": 9,
   "id": "0651b77f-4ee1-4f01-a42f-1c6b92f1f1aa",
   "metadata": {},
   "outputs": [],
   "source": [
    "# Count the number of parcels in each group to then sort the list and see the top addresses\n",
    "def groupcount(row):\n",
    "    return len(row['Pid'])\n",
    "\n",
    "gdf[\"GroupSize\"] = gdf.apply(groupcount, axis = 1)"
   ]
  },
  {
   "cell_type": "code",
   "execution_count": 10,
   "id": "0675bf0e-9299-4f0e-8298-bb20346ec970",
   "metadata": {
    "scrolled": true
   },
   "outputs": [
    {
     "data": {
      "text/html": [
       "<div>\n",
       "<style scoped>\n",
       "    .dataframe tbody tr th:only-of-type {\n",
       "        vertical-align: middle;\n",
       "    }\n",
       "\n",
       "    .dataframe tbody tr th {\n",
       "        vertical-align: top;\n",
       "    }\n",
       "\n",
       "    .dataframe thead th {\n",
       "        text-align: right;\n",
       "    }\n",
       "</style>\n",
       "<table border=\"1\" class=\"dataframe\">\n",
       "  <thead>\n",
       "    <tr style=\"text-align: right;\">\n",
       "      <th></th>\n",
       "      <th>OwnerAddress</th>\n",
       "      <th>Pid</th>\n",
       "      <th>GroupSize</th>\n",
       "    </tr>\n",
       "  </thead>\n",
       "  <tbody>\n",
       "    <tr>\n",
       "      <th>35943</th>\n",
       "      <td>68 MITCHELL ST SW STE 1350, ATLANTA GA 30303</td>\n",
       "      <td>[1696, 1697, 1700, 1701, 1702, 1703, 1704, 170...</td>\n",
       "      <td>893</td>\n",
       "    </tr>\n",
       "    <tr>\n",
       "      <th>8</th>\n",
       "      <td>.</td>\n",
       "      <td>[582, 583, 584, 585, 586, 587, 588, 589, 590, ...</td>\n",
       "      <td>848</td>\n",
       "    </tr>\n",
       "    <tr>\n",
       "      <th>18216</th>\n",
       "      <td>270 WASHINGTON ST SW, ATLANTA GA 30334</td>\n",
       "      <td>[4208, 4210, 4211, 4212, 4213, 4214, 4215, 421...</td>\n",
       "      <td>417</td>\n",
       "    </tr>\n",
       "    <tr>\n",
       "      <th>6731</th>\n",
       "      <td>141 PRYOR ST SW SUITE 7000, ATLANTA GA 30303</td>\n",
       "      <td>[3706, 3707, 3708, 3709, 3710, 3711, 3712, 371...</td>\n",
       "      <td>276</td>\n",
       "    </tr>\n",
       "    <tr>\n",
       "      <th>33874</th>\n",
       "      <td>591 W PUTNAM AVE, GREENWICH CT 06830</td>\n",
       "      <td>[3080, 3082, 3673, 5018, 5019, 5021, 5022, 502...</td>\n",
       "      <td>231</td>\n",
       "    </tr>\n",
       "    <tr>\n",
       "      <th>38822</th>\n",
       "      <td>824 MEMORIAL DR SE, ATLANTA GA 30316</td>\n",
       "      <td>[5464, 5466, 5468, 5470, 5472, 5473, 5474, 547...</td>\n",
       "      <td>217</td>\n",
       "    </tr>\n",
       "    <tr>\n",
       "      <th>16135</th>\n",
       "      <td>2424 PIEDMONT RD NE ATLANTA, GA 30324</td>\n",
       "      <td>[3168, 3169, 3170, 3171, 3172, 3173, 3174, 317...</td>\n",
       "      <td>215</td>\n",
       "    </tr>\n",
       "    <tr>\n",
       "      <th>35952</th>\n",
       "      <td>68 MITCHELL ST SW STE 1350, ATLANTA GA 30303-3534</td>\n",
       "      <td>[1684, 1685, 1686, 1687, 1688, 1689, 1690, 169...</td>\n",
       "      <td>210</td>\n",
       "    </tr>\n",
       "    <tr>\n",
       "      <th>16046</th>\n",
       "      <td>241 RALPH MCGILL BLVD NE, ATLANTA GA 30308-3374</td>\n",
       "      <td>[4820, 4821, 4822, 4823, 4824, 4825, 4826, 482...</td>\n",
       "      <td>190</td>\n",
       "    </tr>\n",
       "    <tr>\n",
       "      <th>24028</th>\n",
       "      <td>3505 KOGER BLVD #400, DULUTH GA 30096</td>\n",
       "      <td>[135, 139, 141, 142, 143, 144, 147, 149, 151, ...</td>\n",
       "      <td>185</td>\n",
       "    </tr>\n",
       "  </tbody>\n",
       "</table>\n",
       "</div>"
      ],
      "text/plain": [
       "                                            OwnerAddress  \\\n",
       "35943       68 MITCHELL ST SW STE 1350, ATLANTA GA 30303   \n",
       "8                                                      .   \n",
       "18216             270 WASHINGTON ST SW, ATLANTA GA 30334   \n",
       "6731        141 PRYOR ST SW SUITE 7000, ATLANTA GA 30303   \n",
       "33874               591 W PUTNAM AVE, GREENWICH CT 06830   \n",
       "38822               824 MEMORIAL DR SE, ATLANTA GA 30316   \n",
       "16135              2424 PIEDMONT RD NE ATLANTA, GA 30324   \n",
       "35952  68 MITCHELL ST SW STE 1350, ATLANTA GA 30303-3534   \n",
       "16046    241 RALPH MCGILL BLVD NE, ATLANTA GA 30308-3374   \n",
       "24028              3505 KOGER BLVD #400, DULUTH GA 30096   \n",
       "\n",
       "                                                     Pid  GroupSize  \n",
       "35943  [1696, 1697, 1700, 1701, 1702, 1703, 1704, 170...        893  \n",
       "8      [582, 583, 584, 585, 586, 587, 588, 589, 590, ...        848  \n",
       "18216  [4208, 4210, 4211, 4212, 4213, 4214, 4215, 421...        417  \n",
       "6731   [3706, 3707, 3708, 3709, 3710, 3711, 3712, 371...        276  \n",
       "33874  [3080, 3082, 3673, 5018, 5019, 5021, 5022, 502...        231  \n",
       "38822  [5464, 5466, 5468, 5470, 5472, 5473, 5474, 547...        217  \n",
       "16135  [3168, 3169, 3170, 3171, 3172, 3173, 3174, 317...        215  \n",
       "35952  [1684, 1685, 1686, 1687, 1688, 1689, 1690, 169...        210  \n",
       "16046  [4820, 4821, 4822, 4823, 4824, 4825, 4826, 482...        190  \n",
       "24028  [135, 139, 141, 142, 143, 144, 147, 149, 151, ...        185  "
      ]
     },
     "execution_count": 10,
     "metadata": {},
     "output_type": "execute_result"
    }
   ],
   "source": [
    "gdf.sort_values('GroupSize', ascending=False).head(10)"
   ]
  },
  {
   "cell_type": "markdown",
   "id": "d8447241-7e90-46ad-a466-86d4ad962f5f",
   "metadata": {},
   "source": [
    "Now, what I want to do is unpack the Pid column as two lists of sources and ends that represent all of the possible combinations within those Pid lists. Corresponding, I want a equally sized list that records the Address of the cluster, so I can name the edge later. Then a fourth list that records the type of the edge (i.e., address or name)\n",
    "\n",
    "Those four lists are then join together to create a zipped list of tuples that can be fed into graph-tools"
   ]
  },
  {
   "cell_type": "code",
   "execution_count": 11,
   "id": "e849c9a1-37b3-4b7e-9747-c09414146c19",
   "metadata": {},
   "outputs": [],
   "source": [
    "# Heavily relying on things not moving around and the list maintaining the correct order to match sources and ends\n",
    "sources = []\n",
    "ends = []\n",
    "names = []\n",
    "\n",
    "for index, row in gdf.iterrows():\n",
    "    name = row['OwnerAddress'] # For every,save the OwnerAddress value to a variable\n",
    "    for x in itertools.combinations(row['Pid'], 2): # Iterates through all combinations of points in the Pid list\n",
    "        sources.append(str(x[0])) # Add the first point in the pair to the sources list\n",
    "        ends.append(str(x[1])) # Add the second point to the ends list\n",
    "        # Source and end ids were saved as strings in order for graph-tools to create valid hashed node ids for them\n",
    "        names.append(name) # For every combination, save the name value into the names list\n",
    "\n",
    "types = [\"Address\"]*len(sources) # Make an identical length list with the repeated value \"Address\" to denote the type of node"
   ]
  },
  {
   "cell_type": "code",
   "execution_count": 12,
   "id": "0d40290e-6aa5-441c-a5f9-e601b231a8be",
   "metadata": {},
   "outputs": [
    {
     "name": "stdout",
     "output_type": "stream",
     "text": [
      "1348062\n",
      "1348062\n",
      "1348062\n",
      "1348062\n"
     ]
    }
   ],
   "source": [
    "# Checking the length of the lists to make sure they are all the same\n",
    "print(len(sources))\n",
    "print(len(ends))\n",
    "print(len(names))\n",
    "print(len(types))"
   ]
  },
  {
   "cell_type": "code",
   "execution_count": 13,
   "id": "f9adfcf5-65a1-4549-b10c-6eebd4d20e7c",
   "metadata": {},
   "outputs": [],
   "source": [
    "# Zipping the lists into a list of tuples\n",
    "AddressEdges = list(zip(sources, ends, names, types))"
   ]
  },
  {
   "cell_type": "code",
   "execution_count": 14,
   "id": "4e88bdf6-8c5f-41a7-9230-15d1016d84e4",
   "metadata": {},
   "outputs": [
    {
     "data": {
      "text/plain": [
       "[('15826', '21113', '#2 CAPITAL SQUARE, ATLANTA, GA, 30334', 'Address'),\n",
       " ('15827', '21113', '#2 CAPITAL SQUARE, ATLANTA, GA, 30334', 'Address'),\n",
       " ('582', '583', '.', 'Address'),\n",
       " ('582', '584', '.', 'Address'),\n",
       " ('582', '585', '.', 'Address'),\n",
       " ('582', '586', '.', 'Address'),\n",
       " ('582', '587', '.', 'Address'),\n",
       " ('582', '588', '.', 'Address'),\n",
       " ('582', '589', '.', 'Address')]"
      ]
     },
     "execution_count": 14,
     "metadata": {},
     "output_type": "execute_result"
    }
   ],
   "source": [
    "# Sample of tuple list\n",
    "AddressEdges[1:10]"
   ]
  },
  {
   "cell_type": "markdown",
   "id": "d6e7618b-326f-47f5-bdd1-0416fdcfaec6",
   "metadata": {},
   "source": [
    "Success! That list should be able to be passed to graph-tools in order to creates vertices and edges"
   ]
  },
  {
   "cell_type": "code",
   "execution_count": 15,
   "id": "dcee4f0b-37c9-48e3-a5a8-d48cb7d32f08",
   "metadata": {},
   "outputs": [],
   "source": [
    "# Creates Address edge network with hashed point names and extra edge properties\n",
    "AdrG = gt.Graph(AddressEdges, eprops = [('name', 'string'), ('type', 'string')], hashed = True, directed = False)"
   ]
  },
  {
   "cell_type": "code",
   "execution_count": 16,
   "id": "2407b4a3-ee84-4589-a45a-4d938e7e5994",
   "metadata": {},
   "outputs": [
    {
     "name": "stdout",
     "output_type": "stream",
     "text": [
      "Number of vertices: 36494\n",
      "Number of edges: 1348062\n"
     ]
    }
   ],
   "source": [
    "# Check the number of vertices and edges\n",
    "print(\"Number of vertices: {}\".format(len(list(AdrG.vertices()))))\n",
    "print(\"Number of edges: {}\".format(len(list(AdrG.edges()))))"
   ]
  },
  {
   "cell_type": "code",
   "execution_count": 17,
   "id": "356c829d-68dc-4eba-8ca0-44f0af7e9bd7",
   "metadata": {},
   "outputs": [],
   "source": [
    "# Save the output in the graph-tools format\n",
    "AdrG.save(\"../Data/address_graph.gt.gz\")"
   ]
  },
  {
   "cell_type": "markdown",
   "id": "2ac8af52-6f95-4b93-a518-6987085d1055",
   "metadata": {},
   "source": [
    "Owner Name"
   ]
  },
  {
   "cell_type": "code",
   "execution_count": 18,
   "id": "849c9083-a2d1-416c-91be-fe7bb300dcab",
   "metadata": {},
   "outputs": [],
   "source": [
    "# Group the parcel dataframe by OwnerAddress and store all of the ids that share the address\n",
    "g2df = sdf.groupby('OwnerName')['Pid'].apply(list).reset_index()"
   ]
  },
  {
   "cell_type": "code",
   "execution_count": 19,
   "id": "d6100368-73c4-46ec-b11d-78a2da347279",
   "metadata": {},
   "outputs": [],
   "source": [
    "# Count the number of parcels in each group to then sort the list and see the top addresses\n",
    "def groupcount(row):\n",
    "    return len(row['Pid'])\n",
    "\n",
    "g2df[\"GroupSize\"] = g2df.apply(groupcount, axis = 1)"
   ]
  },
  {
   "cell_type": "code",
   "execution_count": 20,
   "id": "6fa0d395-7157-4a43-a3c9-e7df912941c0",
   "metadata": {
    "scrolled": true
   },
   "outputs": [
    {
     "data": {
      "text/html": [
       "<div>\n",
       "<style scoped>\n",
       "    .dataframe tbody tr th:only-of-type {\n",
       "        vertical-align: middle;\n",
       "    }\n",
       "\n",
       "    .dataframe tbody tr th {\n",
       "        vertical-align: top;\n",
       "    }\n",
       "\n",
       "    .dataframe thead th {\n",
       "        text-align: right;\n",
       "    }\n",
       "</style>\n",
       "<table border=\"1\" class=\"dataframe\">\n",
       "  <thead>\n",
       "    <tr style=\"text-align: right;\">\n",
       "      <th></th>\n",
       "      <th>OwnerName</th>\n",
       "      <th>Pid</th>\n",
       "      <th>GroupSize</th>\n",
       "    </tr>\n",
       "  </thead>\n",
       "  <tbody>\n",
       "    <tr>\n",
       "      <th>9486</th>\n",
       "      <td>CITY OF ATLANTA</td>\n",
       "      <td>[1596, 1597, 1598, 1600, 1601, 1602, 1604, 160...</td>\n",
       "      <td>1346</td>\n",
       "    </tr>\n",
       "    <tr>\n",
       "      <th>0</th>\n",
       "      <td></td>\n",
       "      <td>[582, 583, 584, 585, 586, 587, 588, 589, 590, ...</td>\n",
       "      <td>817</td>\n",
       "    </tr>\n",
       "    <tr>\n",
       "      <th>27269</th>\n",
       "      <td>MARTA</td>\n",
       "      <td>[3168, 3169, 3170, 3171, 3172, 3173, 3174, 317...</td>\n",
       "      <td>474</td>\n",
       "    </tr>\n",
       "    <tr>\n",
       "      <th>18237</th>\n",
       "      <td>HABITAT FOR HUMANITY IN ATLANTA INC</td>\n",
       "      <td>[5464, 5465, 5466, 5467, 5469, 5470, 5471, 547...</td>\n",
       "      <td>325</td>\n",
       "    </tr>\n",
       "    <tr>\n",
       "      <th>15815</th>\n",
       "      <td>FULTON COUNTY</td>\n",
       "      <td>[3697, 3698, 3701, 3702, 3703, 3704, 3705, 370...</td>\n",
       "      <td>323</td>\n",
       "    </tr>\n",
       "    <tr>\n",
       "      <th>35100</th>\n",
       "      <td>REGENTS UNIV SYSTEM OF GA</td>\n",
       "      <td>[4208, 4209, 4210, 4211, 4212, 4213, 4214, 421...</td>\n",
       "      <td>257</td>\n",
       "    </tr>\n",
       "    <tr>\n",
       "      <th>15894</th>\n",
       "      <td>FYR SFR BORROWER LLC</td>\n",
       "      <td>[129, 130, 134, 135, 139, 141, 142, 143, 144, ...</td>\n",
       "      <td>207</td>\n",
       "    </tr>\n",
       "    <tr>\n",
       "      <th>16529</th>\n",
       "      <td>GEORGIA POWER COMPANY TAX DEPT BIN 10120</td>\n",
       "      <td>[4820, 4821, 4822, 4823, 4824, 4825, 4826, 482...</td>\n",
       "      <td>185</td>\n",
       "    </tr>\n",
       "    <tr>\n",
       "      <th>39697</th>\n",
       "      <td>STAR 2021 SFR1 BORROWER LP</td>\n",
       "      <td>[5018, 5019, 5020, 5021, 5022, 5023, 5024, 502...</td>\n",
       "      <td>180</td>\n",
       "    </tr>\n",
       "    <tr>\n",
       "      <th>12065</th>\n",
       "      <td>DEPARTMENT OF TRANSPORTATION</td>\n",
       "      <td>[5859, 6598, 6599, 6600, 6601, 6602, 6604, 660...</td>\n",
       "      <td>179</td>\n",
       "    </tr>\n",
       "  </tbody>\n",
       "</table>\n",
       "</div>"
      ],
      "text/plain": [
       "                                      OwnerName  \\\n",
       "9486                            CITY OF ATLANTA   \n",
       "0                                                 \n",
       "27269                                     MARTA   \n",
       "18237       HABITAT FOR HUMANITY IN ATLANTA INC   \n",
       "15815                             FULTON COUNTY   \n",
       "35100                 REGENTS UNIV SYSTEM OF GA   \n",
       "15894                      FYR SFR BORROWER LLC   \n",
       "16529  GEORGIA POWER COMPANY TAX DEPT BIN 10120   \n",
       "39697                STAR 2021 SFR1 BORROWER LP   \n",
       "12065              DEPARTMENT OF TRANSPORTATION   \n",
       "\n",
       "                                                     Pid  GroupSize  \n",
       "9486   [1596, 1597, 1598, 1600, 1601, 1602, 1604, 160...       1346  \n",
       "0      [582, 583, 584, 585, 586, 587, 588, 589, 590, ...        817  \n",
       "27269  [3168, 3169, 3170, 3171, 3172, 3173, 3174, 317...        474  \n",
       "18237  [5464, 5465, 5466, 5467, 5469, 5470, 5471, 547...        325  \n",
       "15815  [3697, 3698, 3701, 3702, 3703, 3704, 3705, 370...        323  \n",
       "35100  [4208, 4209, 4210, 4211, 4212, 4213, 4214, 421...        257  \n",
       "15894  [129, 130, 134, 135, 139, 141, 142, 143, 144, ...        207  \n",
       "16529  [4820, 4821, 4822, 4823, 4824, 4825, 4826, 482...        185  \n",
       "39697  [5018, 5019, 5020, 5021, 5022, 5023, 5024, 502...        180  \n",
       "12065  [5859, 6598, 6599, 6600, 6601, 6602, 6604, 660...        179  "
      ]
     },
     "execution_count": 20,
     "metadata": {},
     "output_type": "execute_result"
    }
   ],
   "source": [
    "g2df.sort_values('GroupSize', ascending=False).head(10)"
   ]
  },
  {
   "cell_type": "code",
   "execution_count": 21,
   "id": "70bdd4b7-012b-4e1f-b88f-12964a411960",
   "metadata": {},
   "outputs": [],
   "source": [
    "# Converts the OwnerName groups to edge lists, using the same process as above\n",
    "sources = []\n",
    "ends = []\n",
    "names = []\n",
    "\n",
    "for index, row in g2df.iterrows():\n",
    "    name = row['OwnerName']\n",
    "    for x in itertools.combinations(row['Pid'], 2):\n",
    "        sources.append(str(x[0]))\n",
    "        ends.append(str(x[1]))\n",
    "        names.append(name)\n",
    "\n",
    "types = [\"Name\"]*len(sources)\n",
    "\n",
    "NameEdges = list(zip(sources, ends, names, types))\n",
    "\n",
    "# Creates the Name edge network in the same format as the Address Network\n",
    "NamG = gt.Graph(NameEdges, eprops = [('name', 'string'), ('type', 'string')], hashed = True, directed = False)"
   ]
  },
  {
   "cell_type": "code",
   "execution_count": 22,
   "id": "78f9eba1-53c4-41ea-aeef-aec6a80c30ba",
   "metadata": {},
   "outputs": [
    {
     "name": "stdout",
     "output_type": "stream",
     "text": [
      "Number of vertices: 34368\n",
      "Number of edges: 1879701\n"
     ]
    }
   ],
   "source": [
    "print(\"Number of vertices: {}\".format(len(list(NamG.vertices()))))\n",
    "print(\"Number of edges: {}\".format(len(list(NamG.edges()))))"
   ]
  },
  {
   "cell_type": "code",
   "execution_count": 23,
   "id": "c042e8a5-ab3c-442f-bc00-dc1ad99f3e7d",
   "metadata": {},
   "outputs": [],
   "source": [
    "NamG.save(\"../Data/name_graph.gt.gz\")"
   ]
  },
  {
   "cell_type": "markdown",
   "id": "d65c7a52-39b8-43bf-87cb-aef25f86e95d",
   "metadata": {},
   "source": [
    "Joining them into one network"
   ]
  },
  {
   "cell_type": "code",
   "execution_count": 24,
   "id": "4bca7666-8226-454f-9af3-f0f6e7e7d358",
   "metadata": {},
   "outputs": [
    {
     "data": {
      "text/plain": [
       "3227763"
      ]
     },
     "execution_count": 24,
     "metadata": {},
     "output_type": "execute_result"
    }
   ],
   "source": [
    "# Easiest way to create a network that uses the same nodes but combines both types of edges\n",
    "# is to feed in one expended list of edges\n",
    "allEdges = AddressEdges + NameEdges\n",
    "len(allEdges) # Is the sum of the two previous edge lists"
   ]
  },
  {
   "cell_type": "code",
   "execution_count": 25,
   "id": "64fc481c-7564-45d3-8d56-1eb9accfe161",
   "metadata": {},
   "outputs": [],
   "source": [
    "# Creates a network that contains both Address and Name edges using the same format of the two previous networks\n",
    "JG = gt.Graph(allEdges, eprops = [('name', 'string'), ('type', 'string')], hashed = True, directed = False)"
   ]
  },
  {
   "cell_type": "code",
   "execution_count": 26,
   "id": "7cc9bc87-1429-4799-a613-226c83b316e8",
   "metadata": {},
   "outputs": [
    {
     "name": "stdout",
     "output_type": "stream",
     "text": [
      "Number of vertices: 41396\n",
      "Number of edges: 3227763\n"
     ]
    }
   ],
   "source": [
    "# The number of nodes represents the merged nodes in the two previous networks,\n",
    "# the number of edges is the simple sum\n",
    "print(\"Number of vertices: {}\".format(len(list(JG.vertices()))))\n",
    "print(\"Number of edges: {}\".format(len(list(JG.edges()))))"
   ]
  },
  {
   "cell_type": "code",
   "execution_count": 27,
   "id": "9cdd52d8-8fd6-4bed-be36-e9761c1d0c36",
   "metadata": {},
   "outputs": [],
   "source": [
    "# Saves the output to be imported into the subsequent script\n",
    "JG.save(\"../Data/joint_graph.gt.gz\")"
   ]
  },
  {
   "cell_type": "markdown",
   "id": "813ad605-a4c8-4723-83bd-56b5e759b4e0",
   "metadata": {},
   "source": [
    "Decompisition of the network graph into list component IDs for parcels occurs in the *Parcel Component Analysis* script."
   ]
  }
 ],
 "metadata": {
  "kernelspec": {
   "display_name": "Python 3 (ipykernel)",
   "language": "python",
   "name": "python3"
  },
  "language_info": {
   "codemirror_mode": {
    "name": "ipython",
    "version": 3
   },
   "file_extension": ".py",
   "mimetype": "text/x-python",
   "name": "python",
   "nbconvert_exporter": "python",
   "pygments_lexer": "ipython3",
   "version": "3.11.6"
  }
 },
 "nbformat": 4,
 "nbformat_minor": 5
}
